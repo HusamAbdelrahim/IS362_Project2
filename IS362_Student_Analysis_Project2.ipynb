{
 "cells": [
  {
   "cell_type": "markdown",
   "metadata": {},
   "source": [
    "# Author: Husam Abdelrahim\n",
    "# Project 2"
   ]
  },
  {
   "cell_type": "markdown",
   "metadata": {},
   "source": [
    "# Dataset 1: Student test performance analysis"
   ]
  },
  {
   "cell_type": "markdown",
   "metadata": {},
   "source": [
    "# Student testing performance analysis\n",
    "\n",
    "## Intro:\n",
    "\n",
    "The analysis that we are going to be making is that we wil lbe taking a look and basically examine the the test performance of the student that is layed out across multiple terms, I'm going to be seeking for a pattern, a possiblity of trying to understand the trends that is being applied and possibly see how the educational data is very crucial for trying to understand the student progress throughout the semester, it can give us insights with what opportunies could be presented to help the student, finding better methods, and ability to basically know the test scoress in the demographics and the time periods that is being presented. So by reviewing the analysis with the test scoress and understand the time period we can try our best to gain the insight and understand the academic performance\n",
    "\n",
    "For the test we are going to be working with two that is bascially being crossed with three terms in this scenarion and the dataset came in a raw wide format that has managed to of course present analytical challenge, so we are going to bascially transform this data in a tidy format and I'll show how having a much more cleaner and proper data is very insightful for us to utilize and review "
   ]
  },
  {
   "cell_type": "markdown",
   "metadata": {},
   "source": [
    "## Data Desc\n",
    "\n",
    "The data that we are working with has info about 5 students who took two different examination with scores that has been recorded\n",
    "\n",
    "- We have the student ID that is presented (id, name, and phone #)\n",
    "- Personal Demo Info presneted (sex and age is combined into one column)\n",
    "- We have the test that is identificed\n",
    "- and the scores of the thre examples\n",
    "\n",
    "The structure that we are working with basically has a structure of a \"wide\" dataset because we thhat\n",
    "\n",
    "1. the variables of sex and age are currently combined into one column\n",
    "2. we see that the term scores is spreaded out throughout the multiple column that is presented.\n",
    "3. We also have that the student info is basically repeated in different rows for different test which is not clean overall for a data set to have "
   ]
  },
  {
   "cell_type": "code",
   "execution_count": 1,
   "metadata": {},
   "outputs": [],
   "source": [
    "# we will be using pandas as required and matplotlib to just show the visualization that is presented in my work.\n",
    "import pandas as pd # we are going to be importing pandas to manipulate the data\n",
    "import matplotlib.pyplot as plt # using matplotlib to visualize our data that we are going to be presenting in my work"
   ]
  },
  {
   "cell_type": "code",
   "execution_count": 2,
   "metadata": {},
   "outputs": [
    {
     "name": "stdout",
     "output_type": "stream",
     "text": [
      "Original 'wide' formatting the data:\n"
     ]
    },
    {
     "data": {
      "text/html": [
       "<div>\n",
       "<style scoped>\n",
       "    .dataframe tbody tr th:only-of-type {\n",
       "        vertical-align: middle;\n",
       "    }\n",
       "\n",
       "    .dataframe tbody tr th {\n",
       "        vertical-align: top;\n",
       "    }\n",
       "\n",
       "    .dataframe thead th {\n",
       "        text-align: right;\n",
       "    }\n",
       "</style>\n",
       "<table border=\"1\" class=\"dataframe\">\n",
       "  <thead>\n",
       "    <tr style=\"text-align: right;\">\n",
       "      <th></th>\n",
       "      <th>id</th>\n",
       "      <th>name</th>\n",
       "      <th>phone</th>\n",
       "      <th>sex and age</th>\n",
       "      <th>test number</th>\n",
       "      <th>term 1</th>\n",
       "      <th>term 2</th>\n",
       "      <th>term 3</th>\n",
       "    </tr>\n",
       "  </thead>\n",
       "  <tbody>\n",
       "    <tr>\n",
       "      <th>0</th>\n",
       "      <td>1</td>\n",
       "      <td>Mike</td>\n",
       "      <td>134</td>\n",
       "      <td>m_12</td>\n",
       "      <td>test 1</td>\n",
       "      <td>76</td>\n",
       "      <td>84</td>\n",
       "      <td>87</td>\n",
       "    </tr>\n",
       "    <tr>\n",
       "      <th>1</th>\n",
       "      <td>2</td>\n",
       "      <td>Linda</td>\n",
       "      <td>270</td>\n",
       "      <td>f_13</td>\n",
       "      <td>test 1</td>\n",
       "      <td>88</td>\n",
       "      <td>90</td>\n",
       "      <td>73</td>\n",
       "    </tr>\n",
       "    <tr>\n",
       "      <th>2</th>\n",
       "      <td>3</td>\n",
       "      <td>Sam</td>\n",
       "      <td>210</td>\n",
       "      <td>m_11</td>\n",
       "      <td>test 1</td>\n",
       "      <td>78</td>\n",
       "      <td>74</td>\n",
       "      <td>80</td>\n",
       "    </tr>\n",
       "    <tr>\n",
       "      <th>3</th>\n",
       "      <td>4</td>\n",
       "      <td>Esther</td>\n",
       "      <td>617</td>\n",
       "      <td>f_12</td>\n",
       "      <td>test 1</td>\n",
       "      <td>68</td>\n",
       "      <td>75</td>\n",
       "      <td>74</td>\n",
       "    </tr>\n",
       "    <tr>\n",
       "      <th>4</th>\n",
       "      <td>5</td>\n",
       "      <td>Mary</td>\n",
       "      <td>114</td>\n",
       "      <td>f_14</td>\n",
       "      <td>test 1</td>\n",
       "      <td>65</td>\n",
       "      <td>67</td>\n",
       "      <td>64</td>\n",
       "    </tr>\n",
       "  </tbody>\n",
       "</table>\n",
       "</div>"
      ],
      "text/plain": [
       "   id    name  phone sex and age test number  term 1  term 2  term 3\n",
       "0   1    Mike    134        m_12      test 1      76      84      87\n",
       "1   2   Linda    270        f_13      test 1      88      90      73\n",
       "2   3     Sam    210        m_11      test 1      78      74      80\n",
       "3   4  Esther    617        f_12      test 1      68      75      74\n",
       "4   5    Mary    114        f_14      test 1      65      67      64"
      ]
     },
     "execution_count": 2,
     "metadata": {},
     "output_type": "execute_result"
    }
   ],
   "source": [
    "# First we are going to be read the data and and just looking at the \n",
    "# raw data file we will basically make the data in python\n",
    "\n",
    "# this is how we are going to be defining the data \n",
    "\n",
    "data = [\n",
    "    [1, \"Mike\", 134, \"m_12\", \"test 1\", 76, 84, 87],\n",
    "    [2, \"Linda\", 270, \"f_13\", \"test 1\", 88, 90, 73],\n",
    "    [3, \"Sam\", 210, \"m_11\", \"test 1\", 78, 74, 80],\n",
    "    [4, \"Esther\", 617, \"f_12\", \"test 1\", 68, 75, 74],\n",
    "    [5, \"Mary\", 114, \"f_14\", \"test 1\", 65, 67, 64],\n",
    "    [1, \"Mike\", 134, \"m_12\", \"test 2\", 85, 80, 90],\n",
    "    [2, \"Linda\", 270, \"f_13\", \"test 2\", 87, 82, 94],\n",
    "    [3, \"Sam\", 210, \"m_11\", \"test 2\", 80, 87, 80],\n",
    "    [4, \"Esther\", 617, \"f_12\", \"test 2\", 70, 75, 78],\n",
    "    [5, \"Mary\", 114, \"f_14\", \"test 2\", 68, 70, 63]\n",
    "]\n",
    "\n",
    "# now we are going to be creating a DataFrame with what we are working with\n",
    "\n",
    "df = pd.DataFrame(data, columns = [\"id\", \"name\", \"phone\", \"sex and age\",\n",
    "                                   \"test number\", \"term 1\", \"term 2\", \"term 3\"])\n",
    "\n",
    "print(\"Original 'wide' formatting the data:\")\n",
    "df.head()"
   ]
  },
  {
   "cell_type": "markdown",
   "metadata": {},
   "source": [
    "## Data Exploration\n",
    "\n",
    "Before anything let's take look at the data set that we have presended and this wide formatted dataset that we are working with we see that there are a few issues that is being presented \n",
    "\n",
    "1. As we can see with our work that the \"sex and age\" column has two different variables which one does not really look clean to present in the data.\n",
    "\n",
    "2. Then we have the term scores that are spreaded across the columns\n",
    "\n",
    "3. Another error that could be pointeed out from this data is that each student tend to atleast appear twice in this work \n",
    "\n",
    "So now to make sure that we actually get to properly intake the data and present what is needed to be done is that we have to apply certain applications of tidying the data principles that is presented in our work."
   ]
  },
  {
   "cell_type": "code",
   "execution_count": 3,
   "metadata": {},
   "outputs": [
    {
     "name": "stdout",
     "output_type": "stream",
     "text": [
      "Dataset Information:\n",
      "Number of records: 10\n",
      "Number of unique students: 5\n",
      "Number of tests: <bound method IndexOpsMixin.nunique of 0    test 1\n",
      "1    test 1\n",
      "2    test 1\n",
      "3    test 1\n",
      "4    test 1\n",
      "5    test 2\n",
      "6    test 2\n",
      "7    test 2\n",
      "8    test 2\n",
      "9    test 2\n",
      "Name: test number, dtype: object>\n",
      "<class 'pandas.core.frame.DataFrame'>\n",
      "RangeIndex: 10 entries, 0 to 9\n",
      "Data columns (total 8 columns):\n",
      " #   Column       Non-Null Count  Dtype \n",
      "---  ------       --------------  ----- \n",
      " 0   id           10 non-null     int64 \n",
      " 1   name         10 non-null     object\n",
      " 2   phone        10 non-null     int64 \n",
      " 3   sex and age  10 non-null     object\n",
      " 4   test number  10 non-null     object\n",
      " 5   term 1       10 non-null     int64 \n",
      " 6   term 2       10 non-null     int64 \n",
      " 7   term 3       10 non-null     int64 \n",
      "dtypes: int64(5), object(3)\n",
      "memory usage: 772.0+ bytes\n"
     ]
    }
   ],
   "source": [
    "# Now we will get the basic dataset information that is provided\n",
    "\n",
    "print(\"Dataset Information:\")\n",
    "print(f\"Number of records: {len(df)}\")\n",
    "print(f\"Number of unique students: {df['name'].nunique()}\")\n",
    "print(f\"Number of tests: {df['test number'].nunique}\")\n",
    "\n",
    "# now what is going to be occured is that we will be checkign the data types and the missing values that is presented \n",
    "df.info()"
   ]
  },
  {
   "cell_type": "markdown",
   "metadata": {},
   "source": [
    "## Time for data transfomration and the data presentation \n",
    "\n",
    "In order for us to transform the the data and make it into a tidy format we I will be doing is that I will follow a twop step proces\n",
    "\n",
    "1. **First step we: seperate the the variables combined**: Now what I will be doing is that we are going to be split the \"sex and age\" and put it in a column and there we are going to basically have it into two distincy columns \n",
    "\n",
    "2. **Reshapign the table from a wide data set into a long format**: we are going to be converting the the score of the term cloumn and we are going to put it in a single score whcih is basically corresponds to the term identifier\n",
    "\n",
    "By having this sort of transfomation what I will be doing is that I am going to basically follow the procedure for the tidy data:\n",
    "\n",
    "- Each of the variable will be needs a variable form\n",
    "- each of the observation that is presented in our data will have a row\n",
    "- Each of the observation unit will form a table\n",
    "\n",
    "First, what we are going to do is that we are going to split the \"sex\" and \"age\" into two separate columns and basically by doing this we are following the pinciple of that data and what each data wold not have their own columns"
   ]
  },
  {
   "cell_type": "code",
   "execution_count": 4,
   "metadata": {},
   "outputs": [
    {
     "name": "stdout",
     "output_type": "stream",
     "text": [
      "The results: After iniating a splitting of combined variables:\n"
     ]
    },
    {
     "data": {
      "text/html": [
       "<div>\n",
       "<style scoped>\n",
       "    .dataframe tbody tr th:only-of-type {\n",
       "        vertical-align: middle;\n",
       "    }\n",
       "\n",
       "    .dataframe tbody tr th {\n",
       "        vertical-align: top;\n",
       "    }\n",
       "\n",
       "    .dataframe thead th {\n",
       "        text-align: right;\n",
       "    }\n",
       "</style>\n",
       "<table border=\"1\" class=\"dataframe\">\n",
       "  <thead>\n",
       "    <tr style=\"text-align: right;\">\n",
       "      <th></th>\n",
       "      <th>id</th>\n",
       "      <th>name</th>\n",
       "      <th>phone</th>\n",
       "      <th>test number</th>\n",
       "      <th>term 1</th>\n",
       "      <th>term 2</th>\n",
       "      <th>term 3</th>\n",
       "      <th>sex</th>\n",
       "      <th>age</th>\n",
       "    </tr>\n",
       "  </thead>\n",
       "  <tbody>\n",
       "    <tr>\n",
       "      <th>0</th>\n",
       "      <td>1</td>\n",
       "      <td>Mike</td>\n",
       "      <td>134</td>\n",
       "      <td>test 1</td>\n",
       "      <td>76</td>\n",
       "      <td>84</td>\n",
       "      <td>87</td>\n",
       "      <td>m</td>\n",
       "      <td>12</td>\n",
       "    </tr>\n",
       "    <tr>\n",
       "      <th>1</th>\n",
       "      <td>2</td>\n",
       "      <td>Linda</td>\n",
       "      <td>270</td>\n",
       "      <td>test 1</td>\n",
       "      <td>88</td>\n",
       "      <td>90</td>\n",
       "      <td>73</td>\n",
       "      <td>f</td>\n",
       "      <td>13</td>\n",
       "    </tr>\n",
       "    <tr>\n",
       "      <th>2</th>\n",
       "      <td>3</td>\n",
       "      <td>Sam</td>\n",
       "      <td>210</td>\n",
       "      <td>test 1</td>\n",
       "      <td>78</td>\n",
       "      <td>74</td>\n",
       "      <td>80</td>\n",
       "      <td>m</td>\n",
       "      <td>11</td>\n",
       "    </tr>\n",
       "    <tr>\n",
       "      <th>3</th>\n",
       "      <td>4</td>\n",
       "      <td>Esther</td>\n",
       "      <td>617</td>\n",
       "      <td>test 1</td>\n",
       "      <td>68</td>\n",
       "      <td>75</td>\n",
       "      <td>74</td>\n",
       "      <td>f</td>\n",
       "      <td>12</td>\n",
       "    </tr>\n",
       "    <tr>\n",
       "      <th>4</th>\n",
       "      <td>5</td>\n",
       "      <td>Mary</td>\n",
       "      <td>114</td>\n",
       "      <td>test 1</td>\n",
       "      <td>65</td>\n",
       "      <td>67</td>\n",
       "      <td>64</td>\n",
       "      <td>f</td>\n",
       "      <td>14</td>\n",
       "    </tr>\n",
       "  </tbody>\n",
       "</table>\n",
       "</div>"
      ],
      "text/plain": [
       "   id    name  phone test number  term 1  term 2  term 3 sex  age\n",
       "0   1    Mike    134      test 1      76      84      87   m   12\n",
       "1   2   Linda    270      test 1      88      90      73   f   13\n",
       "2   3     Sam    210      test 1      78      74      80   m   11\n",
       "3   4  Esther    617      test 1      68      75      74   f   12\n",
       "4   5    Mary    114      test 1      65      67      64   f   14"
      ]
     },
     "execution_count": 4,
     "metadata": {},
     "output_type": "execute_result"
    }
   ],
   "source": [
    "# in this section what is going to be occured is that we are going to split the two variables into separate colums\n",
    "\n",
    "df['sex'] = df['sex and age'].str.split('_').str[0]\n",
    "df['age'] = df['sex and age'].str.split('_').str[1].astype(int)\n",
    "\n",
    "# we are not going to be removing the original combined column that was presneted in the raw data\n",
    "df = df.drop ('sex and age', axis = 1)\n",
    "\n",
    "# and now we are going to be displaying the result \n",
    "print(\"The results: After iniating a splitting of combined variables:\")\n",
    "df.head()"
   ]
  },
  {
   "cell_type": "markdown",
   "metadata": {},
   "source": [
    "So now in this step what I wil lbe doing is ability to have a string maniuplation functions so here are the steps that is being provided.\n",
    "\n",
    "1. We are going to be splitting the \"sex and the age\" column at the underscore of the character that is provided\n",
    "2. I am going to basically extract the element which is the (m/f) as gender to present\n",
    "3. What I will be doing is that I will be doing extract the second element as the age and convert it into an int\n",
    "4. we are going to be removing the original combined column making it into a tidy is going to help us a lot with understanding the analysis \n",
    "\n",
    "## Step 2: Rehsaping the dataset of a wide to a long format tidy\n",
    "\n",
    "The second transformation will basically involve the converstion of the term score going from the wide format to the so basically instead of having multiple columns we are going to basically have it in a long format that has a term indetifier\n",
    "\n",
    "As explained we have to convert the term score of the column into a long format so this would actually yield us a result of having a single 'score' column with  the 'term' identifier doing this will make it easier for us to analyze and understand the score"
   ]
  },
  {
   "cell_type": "code",
   "execution_count": 5,
   "metadata": {},
   "outputs": [
    {
     "name": "stdout",
     "output_type": "stream",
     "text": [
      "CSV file 'student_data_tidy.csv' created successfully!\n",
      "A Data to 'tidy' in a long format:\n"
     ]
    },
    {
     "data": {
      "text/html": [
       "<div>\n",
       "<style scoped>\n",
       "    .dataframe tbody tr th:only-of-type {\n",
       "        vertical-align: middle;\n",
       "    }\n",
       "\n",
       "    .dataframe tbody tr th {\n",
       "        vertical-align: top;\n",
       "    }\n",
       "\n",
       "    .dataframe thead th {\n",
       "        text-align: right;\n",
       "    }\n",
       "</style>\n",
       "<table border=\"1\" class=\"dataframe\">\n",
       "  <thead>\n",
       "    <tr style=\"text-align: right;\">\n",
       "      <th></th>\n",
       "      <th>id</th>\n",
       "      <th>name</th>\n",
       "      <th>phone</th>\n",
       "      <th>sex</th>\n",
       "      <th>age</th>\n",
       "      <th>test number</th>\n",
       "      <th>term</th>\n",
       "      <th>score</th>\n",
       "    </tr>\n",
       "  </thead>\n",
       "  <tbody>\n",
       "    <tr>\n",
       "      <th>0</th>\n",
       "      <td>1</td>\n",
       "      <td>Mike</td>\n",
       "      <td>134</td>\n",
       "      <td>m</td>\n",
       "      <td>12</td>\n",
       "      <td>test 1</td>\n",
       "      <td>term 1</td>\n",
       "      <td>76</td>\n",
       "    </tr>\n",
       "    <tr>\n",
       "      <th>1</th>\n",
       "      <td>2</td>\n",
       "      <td>Linda</td>\n",
       "      <td>270</td>\n",
       "      <td>f</td>\n",
       "      <td>13</td>\n",
       "      <td>test 1</td>\n",
       "      <td>term 1</td>\n",
       "      <td>88</td>\n",
       "    </tr>\n",
       "    <tr>\n",
       "      <th>2</th>\n",
       "      <td>3</td>\n",
       "      <td>Sam</td>\n",
       "      <td>210</td>\n",
       "      <td>m</td>\n",
       "      <td>11</td>\n",
       "      <td>test 1</td>\n",
       "      <td>term 1</td>\n",
       "      <td>78</td>\n",
       "    </tr>\n",
       "    <tr>\n",
       "      <th>3</th>\n",
       "      <td>4</td>\n",
       "      <td>Esther</td>\n",
       "      <td>617</td>\n",
       "      <td>f</td>\n",
       "      <td>12</td>\n",
       "      <td>test 1</td>\n",
       "      <td>term 1</td>\n",
       "      <td>68</td>\n",
       "    </tr>\n",
       "    <tr>\n",
       "      <th>4</th>\n",
       "      <td>5</td>\n",
       "      <td>Mary</td>\n",
       "      <td>114</td>\n",
       "      <td>f</td>\n",
       "      <td>14</td>\n",
       "      <td>test 1</td>\n",
       "      <td>term 1</td>\n",
       "      <td>65</td>\n",
       "    </tr>\n",
       "    <tr>\n",
       "      <th>5</th>\n",
       "      <td>1</td>\n",
       "      <td>Mike</td>\n",
       "      <td>134</td>\n",
       "      <td>m</td>\n",
       "      <td>12</td>\n",
       "      <td>test 2</td>\n",
       "      <td>term 1</td>\n",
       "      <td>85</td>\n",
       "    </tr>\n",
       "    <tr>\n",
       "      <th>6</th>\n",
       "      <td>2</td>\n",
       "      <td>Linda</td>\n",
       "      <td>270</td>\n",
       "      <td>f</td>\n",
       "      <td>13</td>\n",
       "      <td>test 2</td>\n",
       "      <td>term 1</td>\n",
       "      <td>87</td>\n",
       "    </tr>\n",
       "    <tr>\n",
       "      <th>7</th>\n",
       "      <td>3</td>\n",
       "      <td>Sam</td>\n",
       "      <td>210</td>\n",
       "      <td>m</td>\n",
       "      <td>11</td>\n",
       "      <td>test 2</td>\n",
       "      <td>term 1</td>\n",
       "      <td>80</td>\n",
       "    </tr>\n",
       "    <tr>\n",
       "      <th>8</th>\n",
       "      <td>4</td>\n",
       "      <td>Esther</td>\n",
       "      <td>617</td>\n",
       "      <td>f</td>\n",
       "      <td>12</td>\n",
       "      <td>test 2</td>\n",
       "      <td>term 1</td>\n",
       "      <td>70</td>\n",
       "    </tr>\n",
       "    <tr>\n",
       "      <th>9</th>\n",
       "      <td>5</td>\n",
       "      <td>Mary</td>\n",
       "      <td>114</td>\n",
       "      <td>f</td>\n",
       "      <td>14</td>\n",
       "      <td>test 2</td>\n",
       "      <td>term 1</td>\n",
       "      <td>68</td>\n",
       "    </tr>\n",
       "  </tbody>\n",
       "</table>\n",
       "</div>"
      ],
      "text/plain": [
       "   id    name  phone sex  age test number    term  score\n",
       "0   1    Mike    134   m   12      test 1  term 1     76\n",
       "1   2   Linda    270   f   13      test 1  term 1     88\n",
       "2   3     Sam    210   m   11      test 1  term 1     78\n",
       "3   4  Esther    617   f   12      test 1  term 1     68\n",
       "4   5    Mary    114   f   14      test 1  term 1     65\n",
       "5   1    Mike    134   m   12      test 2  term 1     85\n",
       "6   2   Linda    270   f   13      test 2  term 1     87\n",
       "7   3     Sam    210   m   11      test 2  term 1     80\n",
       "8   4  Esther    617   f   12      test 2  term 1     70\n",
       "9   5    Mary    114   f   14      test 2  term 1     68"
      ]
     },
     "execution_count": 5,
     "metadata": {},
     "output_type": "execute_result"
    }
   ],
   "source": [
    "# the DataFrame we will now convert from wide to long format\n",
    "\n",
    "df_long = pd.melt(\n",
    "    df,\n",
    "    id_vars=['id', 'name', 'phone', 'sex', 'age', 'test number'],\n",
    "    value_vars=['term 1', 'term 2', 'term 3'],\n",
    "    var_name='term',\n",
    "    value_name='score'\n",
    ")\n",
    "\n",
    "# we are going to save the tidy format to a csv file on the hardware that shoudl be provided \n",
    "\n",
    "df_long.to_csv(\"student_data_tidy.csv\", index=False)\n",
    "print(\"CSV file 'student_data_tidy.csv' created successfully!\")\n",
    "\n",
    "# we are to basically tidy the structure that was provided \n",
    "\n",
    "\n",
    "print (\"A Data to 'tidy' in a long format:\")\n",
    "df_long.head(10)"
   ]
  },
  {
   "cell_type": "markdown",
   "metadata": {},
   "source": [
    "What is being occured in this transfomration is that I will be using the pandas and following the 'melt()' this will allow us to:\n",
    "\n",
    "1. We are going to be keeping the identification and understand the demographic column that is being presented in our work\n",
    "\n",
    "2. We are are going to pivot the score of the oclumn into a single column 'score'\n",
    "\n",
    "3. We will be creating a term that will have a column but also it will be able to identify the term each score\n",
    "\n",
    "The the tidy data and the structure of will have it's own advantages:\n",
    "\n",
    "- Now each row will basically presnt the student score so for example there will be score one test now but for one term\n",
    "\n",
    "- We will be structure that all the variable that is presneted will be having their own column\n",
    "\n",
    "- The data that is presented will be a lot more structure and have a better understanding of the analysis of the sutdent performance\n",
    "\n",
    "So having this in a tidy format will basically allow for a much more flexible insight that could be used for further analysis\n",
    "\n",
    "## The Data Analysis\n",
    "\n",
    "As we can see that once we have reformed our data into a tidy format we can make observation and understand the the analysis much better. So let's get to see with what is going on actually get to calcualte \n",
    "\n",
    "### Firstly, what will be occured is that I will be calculating the avg score that is being presneted for each of the student and ahve a better insight of what is going."
   ]
  },
  {
   "cell_type": "code",
   "execution_count": 6,
   "metadata": {},
   "outputs": [
    {
     "name": "stdout",
     "output_type": "stream",
     "text": [
      "average scores by the students examination and testing:\n"
     ]
    },
    {
     "data": {
      "text/html": [
       "<div>\n",
       "<style scoped>\n",
       "    .dataframe tbody tr th:only-of-type {\n",
       "        vertical-align: middle;\n",
       "    }\n",
       "\n",
       "    .dataframe tbody tr th {\n",
       "        vertical-align: top;\n",
       "    }\n",
       "\n",
       "    .dataframe thead th {\n",
       "        text-align: right;\n",
       "    }\n",
       "</style>\n",
       "<table border=\"1\" class=\"dataframe\">\n",
       "  <thead>\n",
       "    <tr style=\"text-align: right;\">\n",
       "      <th></th>\n",
       "      <th>name</th>\n",
       "      <th>test number</th>\n",
       "      <th>score</th>\n",
       "    </tr>\n",
       "  </thead>\n",
       "  <tbody>\n",
       "    <tr>\n",
       "      <th>0</th>\n",
       "      <td>Esther</td>\n",
       "      <td>test 1</td>\n",
       "      <td>72.333333</td>\n",
       "    </tr>\n",
       "    <tr>\n",
       "      <th>1</th>\n",
       "      <td>Esther</td>\n",
       "      <td>test 2</td>\n",
       "      <td>74.333333</td>\n",
       "    </tr>\n",
       "    <tr>\n",
       "      <th>2</th>\n",
       "      <td>Linda</td>\n",
       "      <td>test 1</td>\n",
       "      <td>83.666667</td>\n",
       "    </tr>\n",
       "    <tr>\n",
       "      <th>3</th>\n",
       "      <td>Linda</td>\n",
       "      <td>test 2</td>\n",
       "      <td>87.666667</td>\n",
       "    </tr>\n",
       "    <tr>\n",
       "      <th>4</th>\n",
       "      <td>Mary</td>\n",
       "      <td>test 1</td>\n",
       "      <td>65.333333</td>\n",
       "    </tr>\n",
       "    <tr>\n",
       "      <th>5</th>\n",
       "      <td>Mary</td>\n",
       "      <td>test 2</td>\n",
       "      <td>67.000000</td>\n",
       "    </tr>\n",
       "    <tr>\n",
       "      <th>6</th>\n",
       "      <td>Mike</td>\n",
       "      <td>test 1</td>\n",
       "      <td>82.333333</td>\n",
       "    </tr>\n",
       "    <tr>\n",
       "      <th>7</th>\n",
       "      <td>Mike</td>\n",
       "      <td>test 2</td>\n",
       "      <td>85.000000</td>\n",
       "    </tr>\n",
       "    <tr>\n",
       "      <th>8</th>\n",
       "      <td>Sam</td>\n",
       "      <td>test 1</td>\n",
       "      <td>77.333333</td>\n",
       "    </tr>\n",
       "    <tr>\n",
       "      <th>9</th>\n",
       "      <td>Sam</td>\n",
       "      <td>test 2</td>\n",
       "      <td>82.333333</td>\n",
       "    </tr>\n",
       "  </tbody>\n",
       "</table>\n",
       "</div>"
      ],
      "text/plain": [
       "     name test number      score\n",
       "0  Esther      test 1  72.333333\n",
       "1  Esther      test 2  74.333333\n",
       "2   Linda      test 1  83.666667\n",
       "3   Linda      test 2  87.666667\n",
       "4    Mary      test 1  65.333333\n",
       "5    Mary      test 2  67.000000\n",
       "6    Mike      test 1  82.333333\n",
       "7    Mike      test 2  85.000000\n",
       "8     Sam      test 1  77.333333\n",
       "9     Sam      test 2  82.333333"
      ]
     },
     "execution_count": 6,
     "metadata": {},
     "output_type": "execute_result"
    }
   ],
   "source": [
    "# It's time to calcuate the avg scores that is being presented for each indiviual student by the test that is beign provided \n",
    "student_avg = df_long.groupby(['name', 'test number'])['score'].mean().reset_index()\n",
    "print(\"average scores by the students examination and testing:\")\n",
    "student_avg"
   ]
  },
  {
   "cell_type": "markdown",
   "metadata": {},
   "source": [
    "What this analysis is tend to display and the different overall is that \n",
    "- We see that Linda is the one who is very consistent on manging to achieve the highest average we see that on 83.67 on the first exam but on the second test we see that on the second exam it she manage to achieve a 87.67 on the second exam\n",
    "\n",
    "- For Mary we see that on the both of examination she is the lowest performer and on the first exam =  65.33 and on the second exam = 67.00\n",
    "\n",
    "- By analysis that we can make here we see that sutdents are achieving a much higher score that is being presented on test number 2 so we can make an assumptions that maybe the teaching method was effective. \n",
    "\n",
    "## Improvement of the performance of the analysis provided:\n",
    "\n",
    "To improve upon from this what will be occured is that there will be a comparision presnet and it will show how each of the student performance tend to change between the 2 examination"
   ]
  },
  {
   "cell_type": "code",
   "execution_count": 7,
   "metadata": {},
   "outputs": [
    {
     "name": "stdout",
     "output_type": "stream",
     "text": [
      "Student enhancement performance between examination/test (sorted by improvement):\n"
     ]
    },
    {
     "data": {
      "text/html": [
       "<div>\n",
       "<style scoped>\n",
       "    .dataframe tbody tr th:only-of-type {\n",
       "        vertical-align: middle;\n",
       "    }\n",
       "\n",
       "    .dataframe tbody tr th {\n",
       "        vertical-align: top;\n",
       "    }\n",
       "\n",
       "    .dataframe thead th {\n",
       "        text-align: right;\n",
       "    }\n",
       "</style>\n",
       "<table border=\"1\" class=\"dataframe\">\n",
       "  <thead>\n",
       "    <tr style=\"text-align: right;\">\n",
       "      <th></th>\n",
       "      <th>name</th>\n",
       "      <th>test 1</th>\n",
       "      <th>test 2</th>\n",
       "      <th>improvement</th>\n",
       "    </tr>\n",
       "  </thead>\n",
       "  <tbody>\n",
       "    <tr>\n",
       "      <th>0</th>\n",
       "      <td>Sam</td>\n",
       "      <td>77.333333</td>\n",
       "      <td>82.333333</td>\n",
       "      <td>5.000000</td>\n",
       "    </tr>\n",
       "    <tr>\n",
       "      <th>1</th>\n",
       "      <td>Linda</td>\n",
       "      <td>83.666667</td>\n",
       "      <td>87.666667</td>\n",
       "      <td>4.000000</td>\n",
       "    </tr>\n",
       "    <tr>\n",
       "      <th>2</th>\n",
       "      <td>Mike</td>\n",
       "      <td>82.333333</td>\n",
       "      <td>85.000000</td>\n",
       "      <td>2.666667</td>\n",
       "    </tr>\n",
       "    <tr>\n",
       "      <th>3</th>\n",
       "      <td>Esther</td>\n",
       "      <td>72.333333</td>\n",
       "      <td>74.333333</td>\n",
       "      <td>2.000000</td>\n",
       "    </tr>\n",
       "    <tr>\n",
       "      <th>4</th>\n",
       "      <td>Mary</td>\n",
       "      <td>65.333333</td>\n",
       "      <td>67.000000</td>\n",
       "      <td>1.666667</td>\n",
       "    </tr>\n",
       "  </tbody>\n",
       "</table>\n",
       "</div>"
      ],
      "text/plain": [
       "     name     test 1     test 2  improvement\n",
       "0     Sam  77.333333  82.333333     5.000000\n",
       "1   Linda  83.666667  87.666667     4.000000\n",
       "2    Mike  82.333333  85.000000     2.666667\n",
       "3  Esther  72.333333  74.333333     2.000000\n",
       "4    Mary  65.333333  67.000000     1.666667"
      ]
     },
     "execution_count": 7,
     "metadata": {},
     "output_type": "execute_result"
    }
   ],
   "source": [
    "# now with what is being occured I will basically be creating a pivot table for us to compare the first test and the second test that is provided.\n",
    "\n",
    "test_comparison = student_avg.pivot(index='name', columns='test number', values='score')\n",
    "test_comparison.columns = ['test 1', 'test 2']  \n",
    "test_comparison['improvement'] = test_comparison['test 2'] - test_comparison['test 1']\n",
    "\n",
    "# now with what is being occured he is that weill be sorting this from the highest to the lowest\n",
    "\n",
    "test_comparison = test_comparison.sort_values('improvement', ascending=False).reset_index()\n",
    "\n",
    "print(\"Student enhancement performance between examination/test (sorted by improvement):\")\n",
    "test_comparison"
   ]
  },
  {
   "cell_type": "markdown",
   "metadata": {},
   "source": [
    "The improvement of the analysis presented:\n",
    "\n",
    "- We see that student has been shown an improvement from the first examination compared to test and test 2\n",
    "- Sam has shown a 5.00 rating when it comes down to the postiive improvement\n",
    "- Mary is the one that shown a least improvement - 1.67 points\n",
    "- The avg student of the improvement with all students was at around the 3.0 ratings\n",
    "- The range of the improvement which is being occured from the (1.67 to 5.00) we see that ther is a possiblity of the different learns that is being applied which it could be shown that new learning method is actually being effective! "
   ]
  },
  {
   "cell_type": "markdown",
   "metadata": {},
   "source": [
    "## The demographic analysis that is presented \n",
    "\n",
    "Now what is going to be occured is that we are going to have a certain understanding and try to understand the demographic factors and the performance, next we will be reviewing and analyzing the scores that is being presented\n",
    "\n",
    "#### The performance of the analysis by age "
   ]
  },
  {
   "cell_type": "code",
   "execution_count": 8,
   "metadata": {},
   "outputs": [
    {
     "name": "stdout",
     "output_type": "stream",
     "text": [
      "Performance analysis by age:\n"
     ]
    },
    {
     "data": {
      "text/html": [
       "<div>\n",
       "<style scoped>\n",
       "    .dataframe tbody tr th:only-of-type {\n",
       "        vertical-align: middle;\n",
       "    }\n",
       "\n",
       "    .dataframe tbody tr th {\n",
       "        vertical-align: top;\n",
       "    }\n",
       "\n",
       "    .dataframe thead th {\n",
       "        text-align: right;\n",
       "    }\n",
       "</style>\n",
       "<table border=\"1\" class=\"dataframe\">\n",
       "  <thead>\n",
       "    <tr style=\"text-align: right;\">\n",
       "      <th></th>\n",
       "      <th>test 1</th>\n",
       "      <th>test 2</th>\n",
       "      <th>improvement</th>\n",
       "    </tr>\n",
       "    <tr>\n",
       "      <th>age</th>\n",
       "      <th></th>\n",
       "      <th></th>\n",
       "      <th></th>\n",
       "    </tr>\n",
       "  </thead>\n",
       "  <tbody>\n",
       "    <tr>\n",
       "      <th>11</th>\n",
       "      <td>77.333333</td>\n",
       "      <td>82.333333</td>\n",
       "      <td>5.000000</td>\n",
       "    </tr>\n",
       "    <tr>\n",
       "      <th>12</th>\n",
       "      <td>77.333333</td>\n",
       "      <td>79.666667</td>\n",
       "      <td>2.333333</td>\n",
       "    </tr>\n",
       "    <tr>\n",
       "      <th>13</th>\n",
       "      <td>83.666667</td>\n",
       "      <td>87.666667</td>\n",
       "      <td>4.000000</td>\n",
       "    </tr>\n",
       "    <tr>\n",
       "      <th>14</th>\n",
       "      <td>65.333333</td>\n",
       "      <td>67.000000</td>\n",
       "      <td>1.666667</td>\n",
       "    </tr>\n",
       "  </tbody>\n",
       "</table>\n",
       "</div>"
      ],
      "text/plain": [
       "        test 1     test 2  improvement\n",
       "age                                   \n",
       "11   77.333333  82.333333     5.000000\n",
       "12   77.333333  79.666667     2.333333\n",
       "13   83.666667  87.666667     4.000000\n",
       "14   65.333333  67.000000     1.666667"
      ]
     },
     "execution_count": 8,
     "metadata": {},
     "output_type": "execute_result"
    }
   ],
   "source": [
    "# Now we will be adding the age info to our comparsion DataFrame\n",
    "age_data = df[['name', 'age']].drop_duplicates().set_index('name')\n",
    "test_comparison['age'] = test_comparison['name'].map(age_data['age'])\n",
    "\n",
    "# We are going to be calculating teh avg scores and udnerstand the improvements of it by age. \n",
    "age_analysis = test_comparison.groupby('age')[['test 1', 'test 2', 'improvement']].mean()\n",
    "print(\"Performance analysis by age:\")\n",
    "age_analysis"
   ]
  },
  {
   "cell_type": "markdown",
   "metadata": {},
   "source": [
    "We can see that in teh age analysis it basically reveals and very interesting pattern so let's review it!\n",
    "\n",
    "- The younger students that are in the age 11 are bascially showing the highest improvement with at least 5 points\n",
    "- The older students which in this scenario 14 are showing the lowerst improvement with a 1.67 points\n",
    "- There seems to be a relationship between teh age and the improvement and as age continues to go on the academic score tend to go down"
   ]
  },
  {
   "cell_type": "markdown",
   "metadata": {},
   "source": [
    "### Performance analysis based on the gender\n",
    "\n",
    "So now what we are going to be doing is basically examine the performance and understand the differences that is based on the gneder and then we will try to analyze avg ascire so basically this is between the mane and the women "
   ]
  },
  {
   "cell_type": "code",
   "execution_count": 9,
   "metadata": {},
   "outputs": [
    {
     "name": "stdout",
     "output_type": "stream",
     "text": [
      "Performance analysis by gender:\n"
     ]
    },
    {
     "data": {
      "text/plain": [
       "<Figure size 1000x600 with 0 Axes>"
      ]
     },
     "metadata": {},
     "output_type": "display_data"
    },
    {
     "data": {
      "image/png": "[encoded data removed]",
      "text/plain": [
       "<Figure size 640x480 with 1 Axes>"
      ]
     },
     "metadata": {},
     "output_type": "display_data"
    }
   ],
   "source": [
    "# we willl be adding the gender infromation here for the comparsion of th data frame\n",
    "gender_data = df[['name', 'sex']].drop_duplicates().set_index('name')\n",
    "test_comparison['gender'] = test_comparison['name'].map(gender_data['sex'])\n",
    "\n",
    "# now we are going to calculate\n",
    "\n",
    "gender_analysis = test_comparison.groupby('gender')[['test 1', 'test 2', 'improvement']].mean()\n",
    "print(\"Performance analysis by gender:\")\n",
    "gender_analysis\n",
    "\n",
    "# what is being occured here is that we are going to find the gender performance comparision and basically use it for deeper analysis \n",
    "\n",
    "plt.figure(figsize=(10, 6))\n",
    "gender_analysis.plot(kind='bar', color=['cornflowerblue', 'darkorange', 'green'])\n",
    "plt.title('Performance Analysis by Gender', fontsize=14)\n",
    "plt.xlabel('Gender', fontsize=12)\n",
    "plt.ylabel('Score', fontsize=12)\n",
    "plt.grid(axis='y', linestyle='--', alpha=0.7)\n",
    "plt.legend(title='Measure')\n",
    "plt.xticks(ticks=[0, 1], labels=['Female', 'Male'])\n",
    "plt.tight_layout()\n",
    "plt.show()"
   ]
  },
  {
   "cell_type": "markdown",
   "metadata": {},
   "source": [
    "The gender analysis is tending to show:\n",
    "- thatt the male students currently would have a mu higher avg improvement with at least 3 points comapred to the femal students which is average around 2.0\n",
    "- the female student had a slighty higher avg that is displayed on teh first examination but not the second\n",
    "- By the second examination it should that the male students have passed hte female students in terms of avg scoree which is like 77 and 76\n",
    "- There is a different in terms of the rate by 1 point and approximately a vast improvement with a 40% higher for the male students"
   ]
  },
  {
   "cell_type": "markdown",
   "metadata": {},
   "source": [
    "## Visualization for the finding\n",
    "\n",
    "Having a representation with the vusalization is really important and one it can help us understand with the patterns that is being presented and the trends that is being presented in the data\n",
    "\n",
    "### Student improvment "
   ]
  },
  {
   "cell_type": "code",
   "execution_count": 10,
   "metadata": {},
   "outputs": [
    {
     "data": {
      "image/png": "[encoded data removed]",
      "text/plain": [
       "<Figure size 1000x600 with 1 Axes>"
      ]
     },
     "metadata": {},
     "output_type": "display_data"
    }
   ],
   "source": [
    "# Visualization 1: We are going to understand the how student improvement from first and second exam.\n",
    "plt.figure(figsize=(10, 6))\n",
    "plt.bar(test_comparison['name'], test_comparison['improvement'], color='skyblue')\n",
    "plt.title('Student improvement from the examiantion of test 1 and test 2', fontsize=14)\n",
    "plt.xlabel('Student', fontsize=12)\n",
    "plt.ylabel('Score Improvement', fontsize=12)\n",
    "plt.grid(axis='y', linestyle='--', alpha=0.7)\n",
    "plt.xticks(rotation=0)  # we are going to keep the names horizontal \n",
    "plt.tight_layout()\n",
    "plt.savefig('student_improvement.png')  # this here will be saving the figure but only if that is needed \n",
    "plt.show()"
   ]
  },
  {
   "cell_type": "markdown",
   "metadata": {},
   "source": [
    "In this visualiation is already shows that there are varying level that is being prestented and the improvement that is being occured with the students and Sam is the one that seems to be holding the most singificant progress while Mary really tends to show the market the least\n",
    "\n",
    "## Test comparision"
   ]
  },
  {
   "cell_type": "code",
   "execution_count": 11,
   "metadata": {},
   "outputs": [
    {
     "data": {
      "image/png": "[encoded data removed]",
      "text/plain": [
       "<Figure size 1200x600 with 1 Axes>"
      ]
     },
     "metadata": {},
     "output_type": "display_data"
    }
   ],
   "source": [
    "# Visualization 2: we are now going to be comparting the test cre comparison \n",
    "\n",
    "plt.figure(figsize=(12, 6))\n",
    "x = range(len(test_comparison))\n",
    "width = 0.35\n",
    "\n",
    "x = range(len(test_comparison))\n",
    "width = 0.35\n",
    "\n",
    "plt.bar(x, test_comparison['test 1'], width, label='Test 1', color='cornflowerblue')\n",
    "plt.bar([i + width for i in x], test_comparison['test 2'], width, label='Test 2', color='darkorange')\n",
    "\n",
    "plt.xlabel('Student', fontsize=12)\n",
    "plt.ylabel('Avg Score', fontsize=12)\n",
    "plt.title('Test Score comparing the student results', fontsize=14)\n",
    "plt.xticks([i + width/2 for i in x], test_comparison['name'])\n",
    "plt.legend()\n",
    "plt.grid(axis='y', linestyle='--', alpha=0.7)\n",
    "plt.tight_layout()\n",
    "plt.show()"
   ]
  },
  {
   "cell_type": "markdown",
   "metadata": {},
   "source": [
    "Now we are going to look at this graph and look at this from side by side comparion and try to understand the high lights that is being presented, as we can see it displays the high light of test number 1 and test number 2\n",
    "\n",
    "## Performance by the age!"
   ]
  },
  {
   "cell_type": "code",
   "execution_count": 12,
   "metadata": {},
   "outputs": [
    {
     "data": {
      "text/plain": [
       "<Figure size 1000x600 with 0 Axes>"
      ]
     },
     "metadata": {},
     "output_type": "display_data"
    },
    {
     "data": {
      "image/png": "[encoded data removed]",
      "text/plain": [
       "<Figure size 640x480 with 1 Axes>"
      ]
     },
     "metadata": {},
     "output_type": "display_data"
    }
   ],
   "source": [
    "# Visualization 3: Now wea re going to be focing more on the performance by age\n",
    "plt.figure(figsize=(10, 6))\n",
    "age_analysis.plot(kind='bar', color=['cornflowerblue', 'darkorange', 'green'])\n",
    "plt.title('Performance Analysis by Age', fontsize=14)\n",
    "plt.xlabel('Age', fontsize=12)\n",
    "plt.ylabel('Score', fontsize=12)\n",
    "plt.grid(axis='y', linestyle='--', alpha=0.7)\n",
    "plt.legend(title='Measure')\n",
    "plt.tight_layout()\n",
    "plt.show()"
   ]
  },
  {
   "cell_type": "markdown",
   "metadata": {},
   "source": [
    "This comparision that we see basically displays the performance of each of the student and the improvement between the test that is being occureed\n",
    "\n",
    "## Key findings and the insights\n",
    "\n",
    "In this work we see that the analysis of student testing exmaination reveals a major pattern overall for example there is decreasing with the improvement but also teh age increases.\n",
    "\n",
    "The analysis of the studnet is basically reveals the data and teh important patterns and the trends that is being presented:"
   ]
  },
  {
   "cell_type": "markdown",
   "metadata": {},
   "source": [
    "## 1. The overall statistics displayed\n",
    "\n",
    "We see that in every student in the data set tend to show an improvement from the first examination and the second examination and have an avg with the 3 points. We see that\n",
    "- There has been a change of method when it comes to learning or new materials were provided because there is a significant when it comes down to the test periods\n",
    "- Now we can also get see that maybe the difficulty was much easier and there had to be some sort of adjustmetn that was being occured \n",
    "- Students probably had a better idea with the testing\n",
    "\n",
    "We see that there a improvement with the students performance for example there would be like a significant amount increase going from at least 1.67 to atleast 5.0 point which shows different learning techniques or ability to take a taking ability."
   ]
  },
  {
   "cell_type": "markdown",
   "metadata": {},
   "source": [
    "## 2. Understanding the indiviaul performance aptterns\n",
    "\n",
    "We see in the data that ireveals a pattern at the certain level:\n",
    "\n",
    "- **Sam (Age 11, Male)**: Here we see that the student is show a very huge dramastic improvement with a number of 5 points and from the first examination we see that 77 but then on test 2 Sam managed to achievive a much hihger score of 82 which is basically a good amount of increase that is show in the performance\n",
    "\n",
    "- **Linda (Age 13, Female)**: Linda continues to show proper performance and the test that is being displayed one we see that there is 83 and the 87 there is a 4 point increase and shows that 4% increase and Linda continues to demostrate that she is not slowing down but progressing with her work\n",
    "\n",
    "- **Esther (Age 12, Female)**: We see that Esteh tends to be consistent but not doing the best and below certain avg\n",
    "\n",
    "- **Mary (Age 14, Female)**: Mary tends to show the leave improvement especially when taking the examin and we see that there is a 1.67 increase and continues to show that she is the lower performer, although there was improvement it was enough \n",
    "\n",
    "- **Mike (Age 12, Male)**: There has been an improvment with Mike which basically continues to show a slightly above test examination result"
   ]
  },
  {
   "cell_type": "markdown",
   "metadata": {},
   "source": [
    "## 3. Now we see the performance pattern for the demographic\n",
    "\n",
    "The analysis we see that there is a much interesting pattern that is being displayed \n",
    "\n",
    "#### Let's review the age patterns that is being dispalyed in this data:\n",
    "\n",
    "The data tend to show the age and the improvement relation let's review togehter\n",
    "\n",
    "- Age 11: 5.00 Increase \n",
    "- Age 12: 2.33 increase - and this is between the two avg of Mike and the Esther\n",
    "- Age 13: 4.00 increase\n",
    "- Age 14: 1.67 increase\n",
    "\n",
    "We see how this tend tends to show  the differences when it comes down to hte learning experience and possibly the approach of the education and by this pattern could possibly show that that it was indeed more effective but because we are working with a data that is much more smaller data there isn't much to go by on the observation "
   ]
  },
  {
   "cell_type": "markdown",
   "metadata": {},
   "source": [
    "## The gender pattern that is being displayed:\n",
    "\n",
    "We see that the male students are show more improvement and if you look at the stats we do see that male students had a lower score but by test test they have mangaed to pass and get to achieve a much higher score. And again this is basically comes down to the education pattern or the way the student have managed to intake the material to learn basically."
   ]
  },
  {
   "cell_type": "markdown",
   "metadata": {},
   "source": [
    "## The Conclusion and the Implications when coming down to education\n",
    "\n",
    "In this data that is being presented there are some imporant factors that we can see\n",
    "\n",
    "### 1. Individual strat that is being displaeyed \n",
    "\n",
    "We see that in the wide varation would really need the implications and ability to change some aspect to meet the approaches of the academic \n",
    "\n",
    "- **Reviewing the students like Mary for example**: We see in the data the Mary was the one that was struggling and with additional support in the academic sphere we know that this could help mary in a long run \n",
    "\n",
    "-- **A high academic success for example like Linda**: While Linda has shown a good amount of academic success there is always way to grow in the academic sphere so there should be some sort of the strat to follow and see how the student can continue to engage with the progress. \n",
    "\n",
    "### 2. Reviewing the age and the teaching method that is provided \n",
    "\n",
    "Reviewing the realtionship between the age and trying to understand the improvement we can see that there are some benefits\n",
    "\n",
    "--**Younger students**: We see that there is a stronger correlation when it comes down with the academic and we see that certain method it's actually work and maybe the educators can use use those method to help with the older students and apply a effective method.\n",
    "\n",
    "-- **Older Students**: We see that the older states tend to have lower rate and outcome and this could be because of not having a proper or following the teaching method so some of the strategies really needs to be adjusted. \n",
    "\n",
    "### 3. Looking at the education adnd the gender when it comes down to the education\n",
    "\n",
    "There are different result when it comes to down the males and females and let's investigate a little further\n",
    "\n",
    "- One should know that the educators should closely observe the method that is being taught and see how it actually affects one group\n",
    "- Including a teaching method that can really include a proper approach  \n",
    "\n",
    "### 4. Focusing on the design\n",
    "\n",
    "The consistent improvement that is shown across the board we see that there are soem that raise some questions in terms of the test design:\n",
    "\n",
    "- The testing do we know if there is any comaprioson especially when it comes down to the difficulty\n",
    "- Did the examination align with the teaching method that was being provided\n",
    "- Educators should consider on the test difficutly or ability to establish a sensible baseline that really work with the variable this being provided in this data set"
   ]
  },
  {
   "cell_type": "markdown",
   "metadata": {},
   "source": [
    "## Limitations and the research \n",
    "\n",
    "There is a limitations that should be reviewed for this purpose let's see what limits \n",
    "\n",
    "1. **Small not big data**: The more data you have the more your able to work with the data because it can provide a much deeper insight and in this case.\n",
    "2. **the time frame**: The data only provided the two examination to review so it's somewhat limited to what we are working with \n",
    "\n",
    "Future research that can really enhance the limitations:\n",
    "\n",
    "- Basically what can be done is that include more students and provide more variables that could be reviewed\n",
    "- What can be done is that we can try to track about hte performance\n",
    "- Understanind the teaching method that is provided \n",
    "- Knowing the difficulty and understand what changes could occur and how to align the idea wit the students. "
   ]
  },
  {
   "cell_type": "markdown",
   "metadata": {},
   "source": [
    "## The Data Transformation and the value\n",
    "\n",
    "In this section what I would like to demostrate on why having a wide data and transform it into a tidy format and what benefit that it poses so here are some of the benefit that it intends to pose\n",
    "\n",
    "1. **Improved flexibility for the analytics**: This is very important because once we did the transformation we were able to get meaningful data but in the orignal data it was impossible to get a deeper meaning of this analysis and would be somewhat impossible to even break down the data in the orignal form\\\n",
    "\n",
    "2. **Enhanced capabilites**: THe tidy format will help us create a meaning answer and will also help us with the visualization that is presented that communicates with the patterns that is being presented\n",
    "\n",
    "3. **Understaning the demeographic analysis presented**: After seprating the sex and the age we started to see a much more distinct analyses that would basically show the patterns which is very valualbe in my work \n",
    "\n",
    "4. **The structure**: We see that in the struture this method is used for data nalysis and this would make it a lot easier for us to get the results using such methods\n",
    "\n",
    "Overall this was pretty straight forward and provided me with information on why it's very important to have data preperation and what the dat acan tell overall."
   ]
  }
 ],
 "metadata": {
  "kernelspec": {
   "display_name": "Python 3",
   "language": "python",
   "name": "python3"
  },
  "language_info": {
   "codemirror_mode": {
    "name": "ipython",
    "version": 3
   },
   "file_extension": ".py",
   "mimetype": "text/x-python",
   "name": "python",
   "nbconvert_exporter": "python",
   "pygments_lexer": "ipython3",
   "version": "3.12.9"
  }
 },
 "nbformat": 4,
 "nbformat_minor": 2
}
